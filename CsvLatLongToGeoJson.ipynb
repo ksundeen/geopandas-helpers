{
 "cells": [
  {
   "cell_type": "markdown",
   "id": "4ba9db7b-2be1-4858-9d58-d22169dbfdf5",
   "metadata": {},
   "source": [
    "Run export of CSV file from mongdodb\n",
    "\n",
    "1. "
   ]
  },
  {
   "cell_type": "code",
   "execution_count": null,
   "id": "27b64cfd-dac1-4c5a-b7ed-a252010e2cc8",
   "metadata": {},
   "outputs": [],
   "source": [
    "import pandas as pd\n",
    "import geopandas as gpd\n",
    "print(pd.__version__)"
   ]
  },
  {
   "cell_type": "code",
   "execution_count": null,
   "id": "d9eac7b0-42b3-4586-b305-152f0329aa4f",
   "metadata": {},
   "outputs": [],
   "source": [
    "df = gpd.read_file('geopandas_input/locations_jan_2022.csv') \n",
    "df.crs = 'epsg:4326'\n",
    "gdf = gpd.GeoDataFrame(df, geometry=gpd.points_from_xy(df['geolocation.longitude'], df['geolocation.latitude']))\n",
    "outfile = r\"geopandas_output/jobid_location_track_lines.geojson\"\n",
    "gdf .to_file(outfile, driver='GeoJSON', encoding=\"utf-8\")"
   ]
  }
 ],
 "metadata": {
  "kernelspec": {
   "display_name": "Python 3 (ipykernel)",
   "language": "python",
   "name": "python3"
  },
  "language_info": {
   "codemirror_mode": {
    "name": "ipython",
    "version": 3
   },
   "file_extension": ".py",
   "mimetype": "text/x-python",
   "name": "python",
   "nbconvert_exporter": "python",
   "pygments_lexer": "ipython3",
   "version": "3.10.2"
  }
 },
 "nbformat": 4,
 "nbformat_minor": 5
}
